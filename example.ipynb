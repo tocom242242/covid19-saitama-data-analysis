{
 "cells": [
  {
   "cell_type": "code",
   "execution_count": 1,
   "metadata": {
    "colab": {
     "base_uri": "https://localhost:8080/",
     "height": 222
    },
    "colab_type": "code",
    "executionInfo": {
     "elapsed": 628,
     "status": "ok",
     "timestamp": 1586122070132,
     "user": {
      "displayName": "test test",
      "photoUrl": "",
      "userId": "00911792285136753831"
     },
     "user_tz": -540
    },
    "id": "Z6ds2mfyKmBp",
    "outputId": "adf854b0-8be8-404e-949c-90f7d53d28f0"
   },
   "outputs": [
    {
     "data": {
      "text/html": [
       "<div>\n",
       "<style scoped>\n",
       "    .dataframe tbody tr th:only-of-type {\n",
       "        vertical-align: middle;\n",
       "    }\n",
       "\n",
       "    .dataframe tbody tr th {\n",
       "        vertical-align: top;\n",
       "    }\n",
       "\n",
       "    .dataframe thead th {\n",
       "        text-align: right;\n",
       "    }\n",
       "</style>\n",
       "<table border=\"1\" class=\"dataframe\">\n",
       "  <thead>\n",
       "    <tr style=\"text-align: right;\">\n",
       "      <th></th>\n",
       "      <th>Unnamed: 0</th>\n",
       "      <th>NO.</th>\n",
       "      <th>判明日</th>\n",
       "      <th>年代</th>\n",
       "      <th>性別</th>\n",
       "      <th>居住地</th>\n",
       "    </tr>\n",
       "  </thead>\n",
       "  <tbody>\n",
       "    <tr>\n",
       "      <th>0</th>\n",
       "      <td>0</td>\n",
       "      <td>418</td>\n",
       "      <td>調査中</td>\n",
       "      <td>調査中</td>\n",
       "      <td>調査中</td>\n",
       "      <td>調査中</td>\n",
       "    </tr>\n",
       "    <tr>\n",
       "      <th>1</th>\n",
       "      <td>1</td>\n",
       "      <td>417</td>\n",
       "      <td>調査中</td>\n",
       "      <td>調査中</td>\n",
       "      <td>調査中</td>\n",
       "      <td>調査中</td>\n",
       "    </tr>\n",
       "    <tr>\n",
       "      <th>2</th>\n",
       "      <td>2</td>\n",
       "      <td>416</td>\n",
       "      <td>4月12日</td>\n",
       "      <td>40代</td>\n",
       "      <td>男性</td>\n",
       "      <td>越谷市</td>\n",
       "    </tr>\n",
       "    <tr>\n",
       "      <th>3</th>\n",
       "      <td>3</td>\n",
       "      <td>415</td>\n",
       "      <td>4月12日</td>\n",
       "      <td>50代</td>\n",
       "      <td>男性</td>\n",
       "      <td>川越市</td>\n",
       "    </tr>\n",
       "    <tr>\n",
       "      <th>4</th>\n",
       "      <td>4</td>\n",
       "      <td>414</td>\n",
       "      <td>4月12日</td>\n",
       "      <td>50代</td>\n",
       "      <td>女性</td>\n",
       "      <td>川越市</td>\n",
       "    </tr>\n",
       "  </tbody>\n",
       "</table>\n",
       "</div>"
      ],
      "text/plain": [
       "   Unnamed: 0  NO.    判明日   年代   性別  居住地\n",
       "0           0  418    調査中  調査中  調査中  調査中\n",
       "1           1  417    調査中  調査中  調査中  調査中\n",
       "2           2  416  4月12日  40代   男性  越谷市\n",
       "3           3  415  4月12日  50代   男性  川越市\n",
       "4           4  414  4月12日  50代   女性  川越市"
      ]
     },
     "execution_count": 1,
     "metadata": {},
     "output_type": "execute_result"
    }
   ],
   "source": [
    "import os\n",
    "import re\n",
    "import pandas as pd\n",
    "import matplotlib.pyplot as plt\n",
    "import numpy as np\n",
    "import seaborn as sns\n",
    "\n",
    "DATA_PATH = './datas/data.csv'\n",
    "\n",
    "data = pd.read_csv(DATA_PATH)\n",
    "data.head()"
   ]
  },
  {
   "cell_type": "code",
   "execution_count": 0,
   "metadata": {
    "colab": {},
    "colab_type": "code",
    "id": "k2AJDOkdQqPU"
   },
   "outputs": [],
   "source": []
  }
 ],
 "metadata": {
  "colab": {
   "authorship_tag": "ABX9TyPqPhk1aFYp6O4IM1Zp5OFw",
   "name": "saitama.ipynb",
   "provenance": []
  },
  "kernelspec": {
   "display_name": "Python 3",
   "language": "python",
   "name": "python3"
  },
  "language_info": {
   "codemirror_mode": {
    "name": "ipython",
    "version": 3
   },
   "file_extension": ".py",
   "mimetype": "text/x-python",
   "name": "python",
   "nbconvert_exporter": "python",
   "pygments_lexer": "ipython3",
   "version": "3.6.0"
  }
 },
 "nbformat": 4,
 "nbformat_minor": 1
}
