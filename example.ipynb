{
 "cells": [
  {
   "cell_type": "code",
   "execution_count": 7,
   "metadata": {
    "colab": {
     "base_uri": "https://localhost:8080/",
     "height": 222
    },
    "colab_type": "code",
    "executionInfo": {
     "elapsed": 628,
     "status": "ok",
     "timestamp": 1586122070132,
     "user": {
      "displayName": "test test",
      "photoUrl": "",
      "userId": "00911792285136753831"
     },
     "user_tz": -540
    },
    "id": "Z6ds2mfyKmBp",
    "outputId": "adf854b0-8be8-404e-949c-90f7d53d28f0"
   },
   "outputs": [
    {
     "data": {
      "text/html": [
       "<div>\n",
       "<style scoped>\n",
       "    .dataframe tbody tr th:only-of-type {\n",
       "        vertical-align: middle;\n",
       "    }\n",
       "\n",
       "    .dataframe tbody tr th {\n",
       "        vertical-align: top;\n",
       "    }\n",
       "\n",
       "    .dataframe thead th {\n",
       "        text-align: right;\n",
       "    }\n",
       "</style>\n",
       "<table border=\"1\" class=\"dataframe\">\n",
       "  <thead>\n",
       "    <tr style=\"text-align: right;\">\n",
       "      <th></th>\n",
       "      <th>No.</th>\n",
       "      <th>判明日</th>\n",
       "      <th>年代</th>\n",
       "      <th>性別</th>\n",
       "      <th>居住地</th>\n",
       "      <th>現状</th>\n",
       "    </tr>\n",
       "  </thead>\n",
       "  <tbody>\n",
       "    <tr>\n",
       "      <td>0</td>\n",
       "      <td>1</td>\n",
       "      <td>2020/2/1</td>\n",
       "      <td>30代</td>\n",
       "      <td>男性</td>\n",
       "      <td>埼玉県外</td>\n",
       "      <td>退院</td>\n",
       "    </tr>\n",
       "    <tr>\n",
       "      <td>1</td>\n",
       "      <td>2</td>\n",
       "      <td>2020/2/10</td>\n",
       "      <td>40代</td>\n",
       "      <td>男性</td>\n",
       "      <td>埼玉県</td>\n",
       "      <td>退院</td>\n",
       "    </tr>\n",
       "    <tr>\n",
       "      <td>2</td>\n",
       "      <td>3</td>\n",
       "      <td>2020/2/14</td>\n",
       "      <td>-</td>\n",
       "      <td>-</td>\n",
       "      <td>埼玉県外</td>\n",
       "      <td>退院</td>\n",
       "    </tr>\n",
       "    <tr>\n",
       "      <td>3</td>\n",
       "      <td>4</td>\n",
       "      <td>2020/2/21</td>\n",
       "      <td>未就学児</td>\n",
       "      <td>男性</td>\n",
       "      <td>埼玉県</td>\n",
       "      <td>退院</td>\n",
       "    </tr>\n",
       "    <tr>\n",
       "      <td>4</td>\n",
       "      <td>5</td>\n",
       "      <td>2020/3/5</td>\n",
       "      <td>60代</td>\n",
       "      <td>男性</td>\n",
       "      <td>行田市</td>\n",
       "      <td>退院</td>\n",
       "    </tr>\n",
       "  </tbody>\n",
       "</table>\n",
       "</div>"
      ],
      "text/plain": [
       "   No.        判明日    年代  性別   居住地  現状\n",
       "0    1   2020/2/1   30代  男性  埼玉県外  退院\n",
       "1    2  2020/2/10   40代  男性   埼玉県  退院\n",
       "2    3  2020/2/14     -   -  埼玉県外  退院\n",
       "3    4  2020/2/21  未就学児  男性   埼玉県  退院\n",
       "4    5   2020/3/5   60代  男性   行田市  退院"
      ]
     },
     "execution_count": 7,
     "metadata": {},
     "output_type": "execute_result"
    }
   ],
   "source": [
    "import os\n",
    "import re\n",
    "import pandas as pd\n",
    "import matplotlib.pyplot as plt\n",
    "import numpy as np\n",
    "import seaborn as sns\n",
    "\n",
    "DATA_PATH = './patients-covid19-saitama.csv'\n",
    "\n",
    "data = pd.read_csv(DATA_PATH)\n",
    "data.head()"
   ]
  },
  {
   "cell_type": "code",
   "execution_count": 8,
   "metadata": {
    "colab": {
     "base_uri": "https://localhost:8080/",
     "height": 235
    },
    "colab_type": "code",
    "executionInfo": {
     "elapsed": 746,
     "status": "ok",
     "timestamp": 1586122073511,
     "user": {
      "displayName": "test test",
      "photoUrl": "",
      "userId": "00911792285136753831"
     },
     "user_tz": -540
    },
    "id": "08hY4g5KPIMq",
    "outputId": "dcd08161-5770-4cb5-f623-632dbea619ec"
   },
   "outputs": [
    {
     "data": {
      "text/html": [
       "<div>\n",
       "<style scoped>\n",
       "    .dataframe tbody tr th:only-of-type {\n",
       "        vertical-align: middle;\n",
       "    }\n",
       "\n",
       "    .dataframe tbody tr th {\n",
       "        vertical-align: top;\n",
       "    }\n",
       "\n",
       "    .dataframe thead th {\n",
       "        text-align: right;\n",
       "    }\n",
       "</style>\n",
       "<table border=\"1\" class=\"dataframe\">\n",
       "  <thead>\n",
       "    <tr style=\"text-align: right;\">\n",
       "      <th></th>\n",
       "      <th>判明日</th>\n",
       "      <th>年代</th>\n",
       "      <th>性別</th>\n",
       "      <th>居住地</th>\n",
       "      <th>現状</th>\n",
       "    </tr>\n",
       "    <tr>\n",
       "      <th>No.</th>\n",
       "      <th></th>\n",
       "      <th></th>\n",
       "      <th></th>\n",
       "      <th></th>\n",
       "      <th></th>\n",
       "    </tr>\n",
       "  </thead>\n",
       "  <tbody>\n",
       "    <tr>\n",
       "      <td>1</td>\n",
       "      <td>2020/2/10</td>\n",
       "      <td>40代</td>\n",
       "      <td>男性</td>\n",
       "      <td>埼玉県</td>\n",
       "      <td>退院</td>\n",
       "    </tr>\n",
       "    <tr>\n",
       "      <td>2</td>\n",
       "      <td>2020/2/14</td>\n",
       "      <td>-</td>\n",
       "      <td>-</td>\n",
       "      <td>埼玉県外</td>\n",
       "      <td>退院</td>\n",
       "    </tr>\n",
       "    <tr>\n",
       "      <td>3</td>\n",
       "      <td>2020/2/21</td>\n",
       "      <td>未就学児</td>\n",
       "      <td>男性</td>\n",
       "      <td>埼玉県</td>\n",
       "      <td>退院</td>\n",
       "    </tr>\n",
       "    <tr>\n",
       "      <td>4</td>\n",
       "      <td>2020/3/5</td>\n",
       "      <td>60代</td>\n",
       "      <td>男性</td>\n",
       "      <td>行田市</td>\n",
       "      <td>退院</td>\n",
       "    </tr>\n",
       "    <tr>\n",
       "      <td>5</td>\n",
       "      <td>2020/3/5</td>\n",
       "      <td>50代</td>\n",
       "      <td>男性</td>\n",
       "      <td>上尾市</td>\n",
       "      <td>退院</td>\n",
       "    </tr>\n",
       "  </tbody>\n",
       "</table>\n",
       "</div>"
      ],
      "text/plain": [
       "           判明日    年代  性別   居住地  現状\n",
       "No.                               \n",
       "1    2020/2/10   40代  男性   埼玉県  退院\n",
       "2    2020/2/14     -   -  埼玉県外  退院\n",
       "3    2020/2/21  未就学児  男性   埼玉県  退院\n",
       "4     2020/3/5   60代  男性   行田市  退院\n",
       "5     2020/3/5   50代  男性   上尾市  退院"
      ]
     },
     "execution_count": 8,
     "metadata": {},
     "output_type": "execute_result"
    }
   ],
   "source": [
    "data = data.reindex(data[\"No.\"])\n",
    "data = data.drop(columns=[\"No.\"])\n",
    "data.head()"
   ]
  },
  {
   "cell_type": "code",
   "execution_count": 20,
   "metadata": {
    "colab": {
     "base_uri": "https://localhost:8080/",
     "height": 286
    },
    "colab_type": "code",
    "executionInfo": {
     "elapsed": 1180,
     "status": "ok",
     "timestamp": 1586128408328,
     "user": {
      "displayName": "test test",
      "photoUrl": "",
      "userId": "00911792285136753831"
     },
     "user_tz": -540
    },
    "id": "3yTJowkEPeg5",
    "outputId": "c3cd3953-1f37-4615-93b0-d5f2c10b0ba7"
   },
   "outputs": [
    {
     "data": {
      "image/png": "[encoded data removed]",
      "text/plain": [
       "<Figure size 432x288 with 1 Axes>"
      ]
     },
     "metadata": {},
     "output_type": "display_data"
    }
   ],
   "source": [
    "# 年齢毎のヒストグラムを表示する\n",
    "age = data[\"年代\"]\n",
    "def convert_age_from_str_to_float(str_age):\n",
    "    \"\"\" 文字列の年代を数値に変換する\n",
    "    \"\"\"\n",
    "    if type(str_age) is str and str_age != \"-\":\n",
    "        if str_age == \"未就学児\":\n",
    "            return 0\n",
    "        age = int(re.sub(\"\\\\D\", \"\", str_age))\n",
    "        return age\n",
    "    else:\n",
    "        return None\n",
    "\n",
    "age = age.apply(convert_age_from_str_to_float)\n",
    "age = age.dropna()\n",
    "hist = age.hist(bins=9)"
   ]
  },
  {
   "cell_type": "code",
   "execution_count": 0,
   "metadata": {
    "colab": {},
    "colab_type": "code",
    "id": "k2AJDOkdQqPU"
   },
   "outputs": [],
   "source": []
  }
 ],
 "metadata": {
  "colab": {
   "authorship_tag": "ABX9TyPqPhk1aFYp6O4IM1Zp5OFw",
   "name": "saitama.ipynb",
   "provenance": []
  },
  "kernelspec": {
   "display_name": "Python 3",
   "language": "python",
   "name": "python3"
  },
  "language_info": {
   "codemirror_mode": {
    "name": "ipython",
    "version": 3
   },
   "file_extension": ".py",
   "mimetype": "text/x-python",
   "name": "python",
   "nbconvert_exporter": "python",
   "pygments_lexer": "ipython3",
   "version": "3.6.0"
  }
 },
 "nbformat": 4,
 "nbformat_minor": 1
}
